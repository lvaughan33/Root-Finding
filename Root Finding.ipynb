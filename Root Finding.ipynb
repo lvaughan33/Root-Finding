{
 "cells": [
  {
   "cell_type": "markdown",
   "metadata": {},
   "source": [
    "# Root Finding\n",
    "\n",
    "Author: Luke Vaughan\n",
    "\n",
    "Course: MATH 545 Numerical Analysis I\n",
    "\n",
    "Instructor: Daniel Poll\n",
    "\n",
    "College of Charleston\n",
    "\n",
    "Spring 2021\n",
    "\n",
    "#### Setup\n",
    "\n",
    "The following code is written for the purpose of solving the equation $\\cos(x) = x$ numerically. One strategy we can use to solve the equation is to find the root of the \"test function\" $f(x) = x - \\cos(x)$. Since the root of the test function is the value for $x$ such that $f(x) = 0$, the root is the solution to $\\cos(x) = x$. We are looking for the root that lies somewhere between $x = 0$ and $x = 1$. So we want to find the $x$-value of the red point (see plot below code block 2). "
   ]
  },
  {
   "cell_type": "code",
   "execution_count": 1,
   "metadata": {},
   "outputs": [],
   "source": [
    "import numpy as np\n",
    "import matplotlib.pyplot as plt\n",
    "from scipy.optimize import root\n",
    "\n",
    "def f(x):\n",
    "    return x - np.cos(x)  #test function"
   ]
  },
  {
   "cell_type": "code",
   "execution_count": 2,
   "metadata": {},
   "outputs": [
    {
     "data": {
      "text/plain": [
       "[<matplotlib.lines.Line2D at 0x272a08f7520>]"
      ]
     },
     "execution_count": 2,
     "metadata": {},
     "output_type": "execute_result"
    },
    {
     "data": {
      "image/png": "[encoded data removed]",
      "text/plain": [
       "<Figure size 432x288 with 1 Axes>"
      ]
     },
     "metadata": {
      "needs_background": "light"
     },
     "output_type": "display_data"
    }
   ],
   "source": [
    "xs = np.linspace(-1,2,100)  #vector of x values\n",
    "ys = np.zeros(100)  #empty vector of y values\n",
    "\n",
    "for i in range(len(ys)):\n",
    "    ys[i] = f(xs[i])  #use test function to fill empty vector of y values\n",
    "    \n",
    "fig, ax = plt.subplots()\n",
    "ax.plot(xs, ys, c = 'black', linewidth = 3)  #plot test function\n",
    "\n",
    "plt.title('$f(x) = x - \\cos(x)$', fontsize = 30)\n",
    "plt.xlabel('$x$', fontsize = 30)\n",
    "plt.ylabel('$y$', fontsize = 30)\n",
    "\n",
    "plt.xlim(-1,2)\n",
    "plt.ylim(-1,2)\n",
    "\n",
    "plt.xticks(size=18)\n",
    "plt.xticks([-1,-0.5,0,0.5,1,1.5,2])\n",
    "plt.yticks(size=18)\n",
    "plt.yticks([-1,-0.5,0,0.5,1,1.5,2])\n",
    "\n",
    "ax.axvline(x = 0, color = 'black')\n",
    "ax.axhline(y = 0, color = 'black') \n",
    "\n",
    "root_result = root(f, 0.5)  #use root function from scipy.optimize (initial guess: 0.5) \n",
    "\n",
    "root_x = root_result.x[0]\n",
    "root_y = f(root_x)\n",
    "ax.plot(root_x, root_y, 'ro', markersize = 15)  #plot root"
   ]
  },
  {
   "cell_type": "markdown",
   "metadata": {},
   "source": [
    "Three methods of root finding are shown and compared at the end.\n",
    "\n",
    "#### Bisection Method\n",
    "\n",
    "One way to find the root of the test function is to use the Bisection Method. This method is a direct application of the Intermediate Value Theorem.\n",
    "\n",
    "In code block 3, the `bisect` function is defined, which has three inputs and two outputs. The first two inputs are the endpoints to be used for the Bisection Method (in this case, $x = 0$ and $x = 1$). The third input, `errorTolerance`, is the satisfactory precision at which `bisect` returns its approximation for the root. The two outputs are `root` and `errorEstimate`.\n",
    "\n",
    "In code block 4, the results are printed. As we can see from the size of `errorEstimate`, the Bisection Method gives us a fairly precise approximation for the solution to $\\cos(x) = x$."
   ]
  },
  {
   "cell_type": "code",
   "execution_count": 3,
   "metadata": {},
   "outputs": [],
   "source": [
    "def bisect(a, b, errorTolerance):\n",
    "    c = (a + b)/2                           #midpoint between a, b\n",
    "    errorBound = c - a                      #error\n",
    "    i = 0                                   #count number of iterations\n",
    "    while errorBound > errorTolerance:      #Bisection Method\n",
    "        if f(a)*f(c) > 0:                   \n",
    "            a = c                           #new left endpoint\n",
    "        else:\n",
    "            b = c                           #new right endpoint\n",
    "        c = (a + b)/2                       #new midpoint\n",
    "        errorBound = c - a                  #difference between midpoint and left endpoint\n",
    "        i = i + 1                           \n",
    "        print(\"Iteration\", i, \": x =\", c, \"with estimated error\", errorBound)\n",
    "    return (c, errorBound)"
   ]
  },
  {
   "cell_type": "code",
   "execution_count": 4,
   "metadata": {},
   "outputs": [
    {
     "name": "stdout",
     "output_type": "stream",
     "text": [
      "Iteration 1 : x = 0.75 with estimated error 0.25\n",
      "Iteration 2 : x = 0.625 with estimated error 0.125\n",
      "Iteration 3 : x = 0.6875 with estimated error 0.0625\n",
      "Iteration 4 : x = 0.71875 with estimated error 0.03125\n",
      "Iteration 5 : x = 0.734375 with estimated error 0.015625\n",
      "Iteration 6 : x = 0.7421875 with estimated error 0.0078125\n",
      "Iteration 7 : x = 0.73828125 with estimated error 0.00390625\n",
      "Iteration 8 : x = 0.740234375 with estimated error 0.001953125\n",
      "Iteration 9 : x = 0.7392578125 with estimated error 0.0009765625\n",
      "Iteration 10 : x = 0.73876953125 with estimated error 0.00048828125\n",
      "Iteration 11 : x = 0.739013671875 with estimated error 0.000244140625\n",
      "Iteration 12 : x = 0.7391357421875 with estimated error 0.0001220703125\n",
      "Iteration 13 : x = 0.73907470703125 with estimated error 6.103515625e-05\n",
      "\n",
      "Solution approximation: 0.73907470703125\n",
      "Error estimation: 6.103515625e-05\n"
     ]
    }
   ],
   "source": [
    "(root, errorEstimate) = bisect(0,1,1e-4)  #use Bisection Method\n",
    "\n",
    "print()\n",
    "print(\"Solution approximation:\", root)\n",
    "print(\"Error estimation:\", errorEstimate)"
   ]
  },
  {
   "cell_type": "markdown",
   "metadata": {},
   "source": [
    "#### Secant Method\n",
    "\n",
    "Another way to find the root of the test function is to use the Secant Method:\n",
    "\n",
    "$$x_{i+1} = \\frac{x_{i-1}f(x_i) - x_if(x_{i-1})}{f(x_i) - f(x_{i-1})}$$\n",
    "\n",
    "In code block 5, the `secant` function is defined, which has six inputs and three outputs. The first input, `f`, is the test function. The next two inputs, `x0` and `x1`, defines the interval containing the root (in this case, $0 \\leq x \\leq 1$). The fourth input, `errorTolerance`, determines the satisfactory precision at which `secant` returns its approximation for the root. The fifth input, `maxIterations`, determines how many iterations are done in the for loop. Finally, the sixth input, `verbose`, is a boolean variable that determines whether or not the program reports the steps it takes to get to the final approximation. \n",
    "\n",
    "In code block 6, the endpoints `x0` and `x1` are chosen poorly, so the program tells us to try again.\n",
    "\n",
    "In code block 7, the endpoints are chosen correctly. The three outputs from the `secant` function are defined as `root`, `errorEstimate`, and `iterations`. Compare the size of `errorEstimate` for the Secant Method and the Bisection Method. Since `errorEstimate` is smaller here, the Secant Method is giving us a better approximaion for the solution."
   ]
  },
  {
   "cell_type": "code",
   "execution_count": 5,
   "metadata": {},
   "outputs": [],
   "source": [
    "def secant(f, x0, x1, errorTolerance, maxIterations = 20, verbose = False):\n",
    "    if np.sign(f(x0)) == np.sign(f(x1)):                   #Intermediate Value Theorem: f(x0), f(x1) should have opposite signs\n",
    "        print(\"Try again\")                                   \n",
    "    else: \n",
    "        x_prev = x0                                        #initialize x_{i-1}\n",
    "        x_next = x1                                        #initialize x_i\n",
    "        for i in range(maxIterations):                     #Secant Method\n",
    "            fx_prev = f(x_prev)                            #plug x_{i-1} into f\n",
    "            fx_next = f(x_next)                            #plug x_i into f\n",
    "            numerator = x_prev*fx_next - (x_next*fx_prev)  #numerator of right-hand side of Secant Method\n",
    "            denominator = fx_next - fx_prev                #denominator of right-hand side of Secant Method\n",
    "            quotient = numerator/denominator\n",
    "            x_prev = x_next                                #set stage for next iteration of Secant Method\n",
    "            x_next = quotient                              #set x_{i+1} equal to quotient\n",
    "            errorEstimate = abs(x_next - x_prev)           #difference between subsequent approximations\n",
    "            if verbose == True:\n",
    "                print(\"Iteration\", i+1, \": x =\", x_next, \"with estimated error\", errorEstimate)\n",
    "            if errorEstimate <= errorTolerance:\n",
    "                return(x_next, errorEstimate, i)"
   ]
  },
  {
   "cell_type": "code",
   "execution_count": 6,
   "metadata": {},
   "outputs": [
    {
     "name": "stdout",
     "output_type": "stream",
     "text": [
      "Try again\n"
     ]
    }
   ],
   "source": [
    "secant(f, 1, 2, 1e-12, verbose = True)  #endpoints chosen poorly: f(1), f(2) have same sign"
   ]
  },
  {
   "cell_type": "code",
   "execution_count": 7,
   "metadata": {},
   "outputs": [
    {
     "name": "stdout",
     "output_type": "stream",
     "text": [
      "Iteration 1 : x = 0.6850733573260451 with estimated error 0.31492664267395487\n",
      "Iteration 2 : x = 0.736298997613654 with estimated error 0.0512256402876089\n",
      "Iteration 3 : x = 0.7391193619116293 with estimated error 0.002820364297975275\n",
      "Iteration 4 : x = 0.7390851121274639 with estimated error 3.4249784165441e-05\n",
      "Iteration 5 : x = 0.7390851332150012 with estimated error 2.1087537382946664e-08\n",
      "Iteration 6 : x = 0.7390851332151607 with estimated error 1.5942802633617248e-13\n",
      "\n",
      "Solution approximation: 0.7390851332151607\n",
      "Error estimation: 1.5942802633617248e-13\n"
     ]
    }
   ],
   "source": [
    "(root, errorEstimate, iterations) = secant(f, 0, 1, 1e-12, verbose = True)  #use Secant Method\n",
    "\n",
    "print()\n",
    "print(\"Solution approximation:\", root)\n",
    "print(\"Error estimation:\", errorEstimate)"
   ]
  },
  {
   "cell_type": "markdown",
   "metadata": {},
   "source": [
    "#### Newton's Method\n",
    "\n",
    "Another way to find the root of the test function is to use Newton's Method:\n",
    "\n",
    "$$x_{i+1} = x_i - \\frac{f(x_i)}{f'(x_i)}$$\n",
    "\n",
    "In code block 8, the `newton` function is defined, which has six inputs and three outputs. The first two inputs, `f` and `fprime` are the test function and its derivative, respectively. We have $f(x) = x - \\cos(x)$ and $f'(x) = 1 + \\sin(x)$. The third input, `x0`, is the initial guess for the root. The last three inputs for the `newton` function are comparable to the last three inputs for the `secant` function.\n",
    "\n",
    "In code block 9, the `fprime` function is defined as $f'(x) = 1 + \\sin(x)$. \n",
    "\n",
    "In code block 10, the three outputs are stored as `root`, `errorEstimate`, and `iterations`. The value for `errorEstimate` is the smallest we have seen thus far. Therefore, Newton's Method is giving us the best approximation for the solution."
   ]
  },
  {
   "cell_type": "code",
   "execution_count": 8,
   "metadata": {},
   "outputs": [],
   "source": [
    "def newton(f, fprime, x0, errorTolerance, maxIterations = 20, verbose = False):\n",
    "    x = x0                                            #initialize x_i\n",
    "    for i in range(maxIterations):\n",
    "        fx = f(x)                                     #plug x_i into f\n",
    "        fprimex = fprime(x)                           #plug x_i into f'\n",
    "        quotient = fx/fprimex\n",
    "        x = x - quotient                              #set x_{i+1} equal to x_i - quotient\n",
    "        errorEstimate = abs(0.7390851332151606 - x)   #comparison to Wolfram Alpha's solution approximation\n",
    "        if verbose == True:\n",
    "            print(\"Iteration\", i+1, \": x =\", x, \"with estimated error\", errorEstimate)\n",
    "        if errorEstimate <= errorTolerance:\n",
    "            return(x, errorEstimate, i)"
   ]
  },
  {
   "cell_type": "code",
   "execution_count": 9,
   "metadata": {},
   "outputs": [],
   "source": [
    "def fprime(x):\n",
    "    return 1 + np.sin(x)  #derivative of test function"
   ]
  },
  {
   "cell_type": "code",
   "execution_count": 10,
   "metadata": {
    "scrolled": true
   },
   "outputs": [
    {
     "name": "stdout",
     "output_type": "stream",
     "text": [
      "Iteration 1 : x = 0.7503638678402439 with estimated error 0.011278734625083331\n",
      "Iteration 2 : x = 0.7391128909113617 with estimated error 2.77576962011139e-05\n",
      "Iteration 3 : x = 0.739085133385284 with estimated error 1.701234708662014e-10\n",
      "Iteration 4 : x = 0.7390851332151607 with estimated error 1.1102230246251565e-16\n",
      "\n",
      "Solution approximation: 0.7390851332151607\n",
      "Error estimation: 1.1102230246251565e-16\n"
     ]
    }
   ],
   "source": [
    "(root, errorEstimate, iterations) = newton(f, fprime, x0 = 1.0, errorTolerance = 1e-12, verbose = True)  #use Newton's Method\n",
    "\n",
    "print()\n",
    "print(\"Solution approximation:\", root)\n",
    "print(\"Error estimation:\", errorEstimate)"
   ]
  },
  {
   "cell_type": "markdown",
   "metadata": {},
   "source": [
    "#### Method Comparison\n",
    "\n",
    "The results from the three methods are organized in tables below. The values of $x_i$ are the approximations for the solution to $\\cos(x) = x$. The values of $e_i$ are the estimations for the error at each iteration. Note that the error is defined differently for each method (Bisection Method: difference between midpoint and left endpoint; Secant Method: difference between subsequent approximations; Newton's Method: comparison to Wolfram Alpha's solution approximation).\n",
    "\n",
    "Clearly, Newton's Method is the best. These results make sense when we consider the \"order of convergence\" for each method (Bisection Method: 1; Secant Method: 1.6; Newton's Method: 2). \n",
    "\n",
    "#### Bisection Method\n",
    "\n",
    "|Iteration|$x_i$|$e_i$|\n",
    "|--------|--------|--------|\n",
    "|1|0.75|0.25|\n",
    "|2|0.625|0.125|\n",
    "|3|0.6875|0.0625|\n",
    "|4|0.71875|0.03125|\n",
    "|5|0.734375|0.015625|\n",
    "|6|0.7421875|0.0078125|\n",
    "|7|0.73828125|0.00390625|\n",
    "|8|0.740234375|0.001953125|\n",
    "|9|0.7392578125|0.0009765625|\n",
    "|10|0.73876953125|0.00048828125|\n",
    "|11|0.739013671875|0.000244140625|\n",
    "|12|0.7391357421875|0.0001220703125|\n",
    "|13|0.73907470703125|6.103515625e-05|\n",
    "\n",
    "\n",
    "#### Secant Method\n",
    "\n",
    "|Iteration|$x_i$|$e_i$|\n",
    "|--------|--------|--------|\n",
    "|1|0.6850733573260451|0.31492664267395487|\n",
    "|2|0.736298997613654|0.0512256402876089|\n",
    "|3|0.7391193619116293|0.002820364297975275|\n",
    "|4|0.7390851121274639|3.4249784165441e-05|\n",
    "|5|0.7390851332150012|2.1087537382946664e-08|\n",
    "|6|0.7390851332151607|1.5942802633617248e-13|\n",
    "\n",
    "#### Newton's Method\n",
    "\n",
    "|Iteration|$x_i$|$e_i$|\n",
    "|--------|--------|--------|\n",
    "|1|0.7503638678402439|0.011278734625083331|\n",
    "|2|0.7391128909113617|2.77576962011139e-05|\n",
    "|3|0.739085133385284|1.701234708662014e-10|\n",
    "|4|0.7390851332151607|1.1102230246251565e-16|\n",
    "\n",
    "#### Conclusion\n",
    "\n",
    "The solution to $\\cos(x) = x$ is $x \\approx 0.7390851332151607$."
   ]
  }
 ],
 "metadata": {
  "kernelspec": {
   "display_name": "Python 3",
   "language": "python",
   "name": "python3"
  },
  "language_info": {
   "codemirror_mode": {
    "name": "ipython",
    "version": 3
   },
   "file_extension": ".py",
   "mimetype": "text/x-python",
   "name": "python",
   "nbconvert_exporter": "python",
   "pygments_lexer": "ipython3",
   "version": "3.8.5"
  }
 },
 "nbformat": 4,
 "nbformat_minor": 4
}
